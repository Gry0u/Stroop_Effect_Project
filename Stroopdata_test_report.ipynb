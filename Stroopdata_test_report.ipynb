{
 "cells": [
  {
   "cell_type": "markdown",
   "metadata": {},
   "source": [
    "# Project: Statistics - The Science of Decisions \n",
    "\n",
    "## Table of Contents\n",
    "<ul>\n",
    "<li><a href=\"#intro\">Introduction</a></li>\n",
    "<li><a href=\"#questions\">Questions for investigation</a></li>\n",
    "<li><a href=\"#answers\">Answers:</a>\n",
    "    <a href=\"#1\">1.Variable</a>\n",
    "    <a href=\"#2\">2.Hypotheses</a>\n",
    "    <a href=\"#3\">3.Descriptive Statistics</a>\n",
    "    <a href=\"#4\">4.Visualisation</a>\n",
    "    <a href=\"#5\">5.Statistical Test</a>\n",
    "    <a href=\"#6\">6.optional</a>\n",
    "    </li>\n",
    "</ul>"
   ]
  },
  {
   "cell_type": "markdown",
   "metadata": {},
   "source": [
    "<a id='intro'></a>\n",
    "## Introduction  \n",
    "\n",
    "In a Stroop task, participants are presented with a list of words, with each word displayed in a color of ink. The participant’s task is to say out loud the color of the ink in which the word is printed. The task has two conditions: a congruent words condition, and an incongruent words condition. In the congruent words condition, the words being displayed are color words whose names match the colors in which they are printed: for example RED, BLUE. In the incongruent words condition, the words displayed are color words whose names do not match the colors in which they are printed: for example PURPLE, ORANGE. In each case, we measure the time it takes to name the ink colors in equally-sized lists. Each participant will go through and record a time from each condition.  \n",
    "I personally ran the test on this [site.](https://www.google.com/url?q=https://faculty.washington.edu/chudler/java/ready.html&sa=D&ust=1523886425750000)  \n",
    "I then added my times (8.909s and 18.69 sec) to the [data set](https://docs.google.com/spreadsheets/d/1IcbjZhRuCyC0QYwLx7GpNXXwwwu8jnprIDXKUOoCDis/edit#gid=691290919) provided by Udacity.  "
   ]
  },
  {
   "cell_type": "markdown",
   "metadata": {},
   "source": [
    "<a id='questions'></a>\n",
    "## Questions for investigation\n",
    "1. What is our independent variable? What is our dependent variable?\n",
    "2. What is an appropriate set of hypotheses for this task? What kind of statistical test do you expect to perform? Justify your choices.\n",
    "3. Report some descriptive statistics regarding this dataset. Include at least one measure of central tendency and at least one measure of variability.\n",
    "4. Provide one or two visualizations that show the distribution of the sample data. Write one or two sentences noting what you observe about the plot or plots.\n",
    "5. Now, perform the statistical test and report your results. What is your confidence level and your critical statistic value? Do you reject the null hypothesis or fail to reject it? Come to a conclusion in terms of the experiment task. Did the results match up with your expectations?\n",
    "6. Optional: What do you think is responsible for the effects observed? Can you think of an alternative or similar task that would result in a similar effect? Some research about the problem will be helpful for thinking about these two questions!  "
   ]
  },
  {
   "cell_type": "code",
   "execution_count": 1,
   "metadata": {
    "collapsed": false
   },
   "outputs": [],
   "source": [
    "import pandas as pd\n",
    "import matplotlib.pyplot as plt\n",
    "import seaborn as sns\n",
    "import numpy as np\n",
    "import scipy.stats\n",
    "%matplotlib inline"
   ]
  },
  {
   "cell_type": "markdown",
   "metadata": {},
   "source": [
    "<a id='answers'></a>\n",
    "## Answers\n",
    "<a id='1'></a>\n",
    "### 1. Variable\n",
    "Our independent variable is the state of our condition:**congruent or incongruent**.  \n",
    "Our dependent variable is the **answering time.**  \n",
    "For more convenience, I'll index  all our variables related to the congruent and incongruent condition **_c** and **_i** respectively.  \n",
    "The variables related to the difference of those variables will be indexed **_d**."
   ]
  },
  {
   "cell_type": "markdown",
   "metadata": {},
   "source": [
    "<a id='2'></a>\n",
    "### 2. Hypotheses\n",
    "Having performed the test myself, I can tell that it took me longer to answer when the word meaning and the color are incongruent. So I'll define the following hypotheses:  \n",
    "\n",
    "   - Our null hypothesis, noted $H_0$, is that the average answering time having the congruent condition true, noted $\\mu_c$, is equal to the average answering time having the incongruent condition true, noted $\\mu_i$.\n",
    "   - Our alternative hypothesis, noted $H_a$, is that it takes longer to answer when the word meaning and font color are incongruent.  \n",
    "   So, with $\\mu_d=\\mu_c-\\mu_i$:  \n",
    "   $$H_0: \\mu_d \\geq 0$$\n",
    "   $$H_a: \\mu_d < 0$$\n",
    "\n",
    "    \n",
    "The test consist in a same group of people performing 2 different tests. So we have 2 dependent samples. And we only have samples, not a full population. So we can't do a z-test but a t-test.  \n",
    "So we will perform the following test:  \n",
    "- 2 dependent samples\n",
    "- t-test\n",
    "- one-tailed (negative)\n",
    "- alpha level: .01 (As the difference between my 2 times is quite high, I want to choose a quite significant alpha level)\n",
    "- degree of freedom: 24=25-1 (because we have 2 **dependent** samples of size 25)\n",
    "\n",
    "We should also keep mind that to perform this test we perform an assumption of normality: we assume that the sampling distribution of the mean of our population is normal. Here we deal especially with samples with a size smaller than 30, so this assumption is quite \"strong\".  \n",
    "We also assume that the individuals who performed the test were randomly selected.\n",
    "\n",
    "<a id='3'></a>\n",
    "### 3.Descriptive Statistics"
   ]
  },
  {
   "cell_type": "code",
   "execution_count": 2,
   "metadata": {},
   "outputs": [
    {
     "data": {
      "text/html": [
       "<div>\n",
       "<table border=\"1\" class=\"dataframe\">\n",
       "  <thead>\n",
       "    <tr style=\"text-align: right;\">\n",
       "      <th></th>\n",
       "      <th>Congruent</th>\n",
       "      <th>Incongruent</th>\n",
       "    </tr>\n",
       "  </thead>\n",
       "  <tbody>\n",
       "    <tr>\n",
       "      <th>count</th>\n",
       "      <td>25.000000</td>\n",
       "      <td>25.000000</td>\n",
       "    </tr>\n",
       "    <tr>\n",
       "      <th>mean</th>\n",
       "      <td>13.845440</td>\n",
       "      <td>21.882880</td>\n",
       "    </tr>\n",
       "    <tr>\n",
       "      <th>std</th>\n",
       "      <td>3.633017</td>\n",
       "      <td>4.742932</td>\n",
       "    </tr>\n",
       "    <tr>\n",
       "      <th>min</th>\n",
       "      <td>8.630000</td>\n",
       "      <td>15.687000</td>\n",
       "    </tr>\n",
       "    <tr>\n",
       "      <th>25%</th>\n",
       "      <td>11.344000</td>\n",
       "      <td>18.690000</td>\n",
       "    </tr>\n",
       "    <tr>\n",
       "      <th>50%</th>\n",
       "      <td>14.233000</td>\n",
       "      <td>20.878000</td>\n",
       "    </tr>\n",
       "    <tr>\n",
       "      <th>75%</th>\n",
       "      <td>16.004000</td>\n",
       "      <td>23.894000</td>\n",
       "    </tr>\n",
       "    <tr>\n",
       "      <th>max</th>\n",
       "      <td>22.328000</td>\n",
       "      <td>35.255000</td>\n",
       "    </tr>\n",
       "  </tbody>\n",
       "</table>\n",
       "</div>"
      ],
      "text/plain": [
       "       Congruent  Incongruent\n",
       "count  25.000000    25.000000\n",
       "mean   13.845440    21.882880\n",
       "std     3.633017     4.742932\n",
       "min     8.630000    15.687000\n",
       "25%    11.344000    18.690000\n",
       "50%    14.233000    20.878000\n",
       "75%    16.004000    23.894000\n",
       "max    22.328000    35.255000"
      ]
     },
     "execution_count": 2,
     "metadata": {},
     "output_type": "execute_result"
    }
   ],
   "source": [
    "#import csv file containng samples data in s dataframe\n",
    "file='stroopdata.csv'\n",
    "with open(file,'r') as f:\n",
    "    df=pd.read_csv(f)\n",
    "\n",
    "# add my recorded times to the dataframe\n",
    "mytimes=pd.DataFrame({'Congruent':[8.909],'Incongruent':[18.690]}) \n",
    "df=df.append(mytimes)\n",
    "df.describe()"
   ]
  },
  {
   "cell_type": "markdown",
   "metadata": {},
   "source": [
    "Comparing the two means, we note for instance that the answering time increased by more than 50%.\n",
    "<a id='4'></a>\n",
    "### 4.Visualisation"
   ]
  },
  {
   "cell_type": "code",
   "execution_count": 3,
   "metadata": {},
   "outputs": [
    {
     "data": {
      "image/png": "[encoded data removed]",
      "text/plain": [
       "<matplotlib.figure.Figure at 0x9dd51b0>"
      ]
     },
     "metadata": {},
     "output_type": "display_data"
    }
   ],
   "source": [
    "df.plot(title='Distribution of answering time',kind='hist', subplots='True', bins=range(5,40,2))\n",
    "plt.show()"
   ]
  },
  {
   "cell_type": "markdown",
   "metadata": {},
   "source": [
    "On the 2 previous histograms, we can clearly see that the distribution of times to answer when word meaning and color font are congruent is centered between 10 and 15 seconds. The distribution of times when the condition is incongruent is comnpletely shifted to the right: min, max, mean are higher."
   ]
  },
  {
   "cell_type": "code",
   "execution_count": 4,
   "metadata": {},
   "outputs": [
    {
     "data": {
      "image/png": "[encoded data removed]",
      "text/plain": [
       "<matplotlib.figure.Figure at 0x9f4cc10>"
      ]
     },
     "metadata": {},
     "output_type": "display_data"
    }
   ],
   "source": [
    "df.plot(kind='bar')\n",
    "plt.show()"
   ]
  },
  {
   "cell_type": "markdown",
   "metadata": {},
   "source": [
    "<a id='5'></a>\n",
    "### 5. Statistical Test"
   ]
  },
  {
   "cell_type": "code",
   "execution_count": 11,
   "metadata": {},
   "outputs": [
    {
     "name": "stdout",
     "output_type": "stream",
     "text": [
      "Standard Error=0.95524613596\n",
      "t_stat=-8.41399896574\n",
      "t_crit=-2.49215947316\n",
      "Confidence Interval=[-10.418065706930086, -5.6568142930699103]\n"
     ]
    }
   ],
   "source": [
    "df['Difference']=df['Congruent']-df['Incongruent']\n",
    "\n",
    "mu_d=df['Difference'].mean()\n",
    "\n",
    "#standard deviation\n",
    "sd_d=np.std(df['Difference'],ddof=1)\n",
    "se=sd_d/np.sqrt(df.shape[0])\n",
    "\n",
    "#t-statistic\n",
    "t_stat=mu_d/(sd_d/np.sqrt(df.shape[0]))\n",
    "t_crit=scipy.stats.t.ppf(0.01,df.shape[0]-1)\n",
    "\n",
    "#Confidence level\n",
    "CI=[mu_d+t_crit*se,mu_d-t_crit*se]\n",
    "\n",
    "print \"Standard Error=\"+str(se)\n",
    "print 't_stat='+str(t_stat)\n",
    "print 't_crit='+str(t_crit)\n",
    "print \"Confidence Interval=\"+str(CI)"
   ]
  },
  {
   "cell_type": "markdown",
   "metadata": {},
   "source": [
    "\n",
    "As t_stat < t_crit we can already say that our 2 samples are significantly different at p<.01. We reject the null.  \n",
    "Confidence interval on mean difference;99% CI;(-8.04,8.04).  \n",
    "It confirms my expectation, or at least my personal experience:  \n",
    "One is confused because one is submitted at the same time two contradictory pieces of information: color and word's meaning. It takes more time to give only the font color's name because one has to first \"reject\" the word's meaning information."
   ]
  },
  {
   "cell_type": "markdown",
   "metadata": {},
   "source": [
    "<a id='6'></a>\n",
    "### 6.Optional\n",
    "Some theories listed by [wikipedia](https://en.wikipedia.org/wiki/Stroop_effect#Theories) includes the \"Automaticity theory:  \n",
    "*\" It suggests that since recognizing colors is not an \"automatic process\" there is hesitancy to respond; whereas, the brain automatically understands the meaning of words as a result of habitual reading.\"*  \n",
    "I would say that the explaination I provided in 4. falls in this theory.  \n",
    "An interesting alternative task leading to similar effect is the [Simon effect](https://en.wikipedia.org/wiki/Simon_effect). \n"
   ]
  }
 ],
 "metadata": {
  "anaconda-cloud": {},
  "kernelspec": {
   "display_name": "Python [conda env:DAND]",
   "language": "python",
   "name": "conda-env-DAND-py"
  },
  "language_info": {
   "codemirror_mode": {
    "name": "ipython",
    "version": 2
   },
   "file_extension": ".py",
   "mimetype": "text/x-python",
   "name": "python",
   "nbconvert_exporter": "python",
   "pygments_lexer": "ipython2",
   "version": "2.7.12"
  }
 },
 "nbformat": 4,
 "nbformat_minor": 2
}
